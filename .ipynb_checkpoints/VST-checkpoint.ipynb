{
 "cells": [
  {
   "cell_type": "markdown",
   "id": "8e75cc83-8e40-4399-ad8d-1bd6092ecfd0",
   "metadata": {},
   "source": [
    "# Very Short Term Forecasting"
   ]
  },
  {
   "cell_type": "code",
   "execution_count": 1,
   "id": "b508bdb4-3161-4f3e-9aaa-57da1254ba3d",
   "metadata": {},
   "outputs": [],
   "source": [
    "import pandas as pd\n",
    "import matplotlib.pyplot as plt\n",
    "import numpy as np\n",
    "from tqdm.auto import tqdm\n",
    "from sklearn.multioutput import MultiOutputRegressor\n",
    "from sklearn.linear_model import LinearRegression\n",
    "from sklearn.tree import DecisionTreeRegressor\n",
    "from nets import SimpleMLPRegressor, CNNRegressor\n",
    "from lightgbm import LGBMRegressor\n",
    "from utils import create_time_series_splits, read_df, mape"
   ]
  },
  {
   "cell_type": "code",
   "execution_count": 2,
   "id": "6fb5e256-082f-4716-a3f5-88d58a23c013",
   "metadata": {},
   "outputs": [],
   "source": [
    "excluded_columns = ['Total Load', 'Most recent forecast', 'Most recent P10',\n",
    "       'Most recent P90', 'Day-ahead 6PM forecast', 'Day-ahead 6PM P10',\n",
    "       'Day-ahead 6PM P90', 'Week-ahead forecast', 'Year', 'Month', 'Day',\n",
    "       'Hour', 'Minute', 'Season', 'Lockdown']"
   ]
  },
  {
   "cell_type": "code",
   "execution_count": 3,
   "id": "18c514f7-c3d5-4c2d-aadc-1a730a37c99b",
   "metadata": {},
   "outputs": [
    {
     "name": "stderr",
     "output_type": "stream",
     "text": [
      "100%|██████████| 64512/64512 [00:06<00:00, 9354.65it/s]\n",
      "100%|██████████| 2688/2688 [00:00<00:00, 330459.57it/s]\n",
      "100%|██████████| 64512/64512 [00:07<00:00, 9032.11it/s]\n",
      "100%|██████████| 2688/2688 [00:00<00:00, 324682.90it/s]\n",
      "100%|██████████| 64512/64512 [00:07<00:00, 9183.84it/s]\n",
      "100%|██████████| 2688/2688 [00:00<00:00, 326648.97it/s]\n",
      "100%|██████████| 64512/64512 [00:07<00:00, 9133.44it/s]\n",
      "100%|██████████| 2688/2688 [00:00<00:00, 326384.19it/s]\n",
      "100%|██████████| 64512/64512 [00:06<00:00, 9304.76it/s]\n",
      "100%|██████████| 2688/2688 [00:00<00:00, 323973.83it/s]\n"
     ]
    }
   ],
   "source": [
    "num_splits = 5\n",
    "splits = create_time_series_splits(\n",
    "    data=read_df('./preprocessed_data.csv'),\n",
    "    train_size_days=7*4*24,\n",
    "    test_size_days=7*4,\n",
    "    num_splits=num_splits,\n",
    "    window_size_steps=4,\n",
    "    exclude_columns=excluded_columns,\n",
    "    target_column='Total Load Interpolated',\n",
    "    prediction_horizon_steps=4,\n",
    "    shifting_steps=1,\n",
    "    elia_column_to_return='Day-ahead 6PM forecast',\n",
    "    alignment_times=['18:00']\n",
    ")"
   ]
  },
  {
   "cell_type": "code",
   "execution_count": 12,
   "id": "f7ae267f-1252-42b1-bb28-2966a4eb88e0",
   "metadata": {},
   "outputs": [],
   "source": [
    "models = [LinearRegression, DecisionTreeRegressor, MultiOutputRegressor, SimpleMLPRegressor, CNNRegressor]\n",
    "params = {\"LinearRegression\": {},\n",
    "          \"DecisionTreeRegressor\": {},\n",
    "          \"MultiOutputRegressor\": {'estimator': LGBMRegressor(verbose= -1)},\n",
    "          \"SimpleMLPRegressor\": {'device': 'mps', 'epochs': 150, 'verbose': True},\n",
    "          \"CNNRegressor\": {'device': 'mps', 'epochs': 150, 'verbose': True}}"
   ]
  },
  {
   "cell_type": "code",
   "execution_count": 13,
   "id": "2e9ccf8b-fdaa-470c-a662-477e4ff8dd66",
   "metadata": {},
   "outputs": [
    {
     "data": {
      "application/vnd.jupyter.widget-view+json": {
       "model_id": "5805614e8b124113b72c2f71a69771ac",
       "version_major": 2,
       "version_minor": 0
      },
      "text/plain": [
       "  0%|          | 0/5 [00:00<?, ?it/s]"
      ]
     },
     "metadata": {},
     "output_type": "display_data"
    },
    {
     "name": "stdout",
     "output_type": "stream",
     "text": [
      "LinearRegression 1.5068709228264525\n"
     ]
    },
    {
     "data": {
      "application/vnd.jupyter.widget-view+json": {
       "model_id": "1ab1a1a9c05841ef9aade7c64712ed66",
       "version_major": 2,
       "version_minor": 0
      },
      "text/plain": [
       "  0%|          | 0/5 [00:00<?, ?it/s]"
      ]
     },
     "metadata": {},
     "output_type": "display_data"
    },
    {
     "name": "stdout",
     "output_type": "stream",
     "text": [
      "DecisionTreeRegressor 2.1587809850751216\n"
     ]
    },
    {
     "data": {
      "application/vnd.jupyter.widget-view+json": {
       "model_id": "50d40c037f8844e99fb6b880a301d9d0",
       "version_major": 2,
       "version_minor": 0
      },
      "text/plain": [
       "  0%|          | 0/5 [00:00<?, ?it/s]"
      ]
     },
     "metadata": {},
     "output_type": "display_data"
    },
    {
     "name": "stdout",
     "output_type": "stream",
     "text": [
      "MultiOutputRegressor 1.5896719019946393\n"
     ]
    },
    {
     "data": {
      "application/vnd.jupyter.widget-view+json": {
       "model_id": "04f68543d1b24383a64d63b36c9f657f",
       "version_major": 2,
       "version_minor": 0
      },
      "text/plain": [
       "  0%|          | 0/5 [00:00<?, ?it/s]"
      ]
     },
     "metadata": {},
     "output_type": "display_data"
    },
    {
     "data": {
      "application/vnd.jupyter.widget-view+json": {
       "model_id": "cc231eaa852e431fbf13c2423170c71e",
       "version_major": 2,
       "version_minor": 0
      },
      "text/plain": [
       "Training epochs:   0%|          | 0/150 [00:00<?, ?it/s]"
      ]
     },
     "metadata": {},
     "output_type": "display_data"
    },
    {
     "data": {
      "application/vnd.jupyter.widget-view+json": {
       "model_id": "56b42f477f134cf2a64de79c2cbae470",
       "version_major": 2,
       "version_minor": 0
      },
      "text/plain": [
       "Training epochs:   0%|          | 0/150 [00:00<?, ?it/s]"
      ]
     },
     "metadata": {},
     "output_type": "display_data"
    },
    {
     "data": {
      "application/vnd.jupyter.widget-view+json": {
       "model_id": "54e0096ff7ad4742976f69ad637b575d",
       "version_major": 2,
       "version_minor": 0
      },
      "text/plain": [
       "Training epochs:   0%|          | 0/150 [00:00<?, ?it/s]"
      ]
     },
     "metadata": {},
     "output_type": "display_data"
    },
    {
     "data": {
      "application/vnd.jupyter.widget-view+json": {
       "model_id": "f35efc19a8a342ab96bf1beda9a99bd5",
       "version_major": 2,
       "version_minor": 0
      },
      "text/plain": [
       "Training epochs:   0%|          | 0/150 [00:00<?, ?it/s]"
      ]
     },
     "metadata": {},
     "output_type": "display_data"
    },
    {
     "data": {
      "application/vnd.jupyter.widget-view+json": {
       "model_id": "92277573faa045bda1cd444175d667c7",
       "version_major": 2,
       "version_minor": 0
      },
      "text/plain": [
       "Training epochs:   0%|          | 0/150 [00:00<?, ?it/s]"
      ]
     },
     "metadata": {},
     "output_type": "display_data"
    },
    {
     "name": "stdout",
     "output_type": "stream",
     "text": [
      "SimpleMLPRegressor 1.6176830964369213\n"
     ]
    },
    {
     "data": {
      "application/vnd.jupyter.widget-view+json": {
       "model_id": "e4ddde35494345ecb89891955197962f",
       "version_major": 2,
       "version_minor": 0
      },
      "text/plain": [
       "  0%|          | 0/5 [00:00<?, ?it/s]"
      ]
     },
     "metadata": {},
     "output_type": "display_data"
    },
    {
     "data": {
      "application/vnd.jupyter.widget-view+json": {
       "model_id": "37573a443d304c27bf305995e19d4af1",
       "version_major": 2,
       "version_minor": 0
      },
      "text/plain": [
       "Training epochs:   0%|          | 0/150 [00:00<?, ?it/s]"
      ]
     },
     "metadata": {},
     "output_type": "display_data"
    },
    {
     "data": {
      "application/vnd.jupyter.widget-view+json": {
       "model_id": "769dcf8c24f24025a07fbbd9ab1a53e5",
       "version_major": 2,
       "version_minor": 0
      },
      "text/plain": [
       "Training epochs:   0%|          | 0/150 [00:00<?, ?it/s]"
      ]
     },
     "metadata": {},
     "output_type": "display_data"
    },
    {
     "data": {
      "application/vnd.jupyter.widget-view+json": {
       "model_id": "3d7e6d778ea940dc814dd5697179e9c9",
       "version_major": 2,
       "version_minor": 0
      },
      "text/plain": [
       "Training epochs:   0%|          | 0/150 [00:00<?, ?it/s]"
      ]
     },
     "metadata": {},
     "output_type": "display_data"
    },
    {
     "data": {
      "application/vnd.jupyter.widget-view+json": {
       "model_id": "bf61009893b140a5ad30abf859fd8685",
       "version_major": 2,
       "version_minor": 0
      },
      "text/plain": [
       "Training epochs:   0%|          | 0/150 [00:00<?, ?it/s]"
      ]
     },
     "metadata": {},
     "output_type": "display_data"
    },
    {
     "data": {
      "application/vnd.jupyter.widget-view+json": {
       "model_id": "4a16dd4647d04f15b871484c26c69ce4",
       "version_major": 2,
       "version_minor": 0
      },
      "text/plain": [
       "Training epochs:   0%|          | 0/150 [00:00<?, ?it/s]"
      ]
     },
     "metadata": {},
     "output_type": "display_data"
    },
    {
     "name": "stdout",
     "output_type": "stream",
     "text": [
      "CNNRegressor 1.6412692586732391\n"
     ]
    }
   ],
   "source": [
    "errors = {}\n",
    "for m in models:\n",
    "    errors[m.__name__] = []\n",
    "    mapes = []\n",
    "    mapes_ELIA = []\n",
    "    for split_idx in tqdm(range(num_splits)):\n",
    "        X_train = splits[split_idx]['X_train'].to_numpy()\n",
    "        Y_train = splits[split_idx]['Y_train'].to_numpy()\n",
    "        X_test = splits[split_idx]['X_test'].to_numpy()\n",
    "        Y_test = splits[split_idx]['Y_test'].to_numpy()\n",
    "        min_X_train, max_X_train = np.min(X_train), np.max(X_train)\n",
    "        min_Y_train, max_Y_train = np.min(Y_train), np.max(Y_train)\n",
    "        X_train, Y_train = (X_train-min_X_train)/(max_X_train-min_X_train), (Y_train-min_Y_train)/(max_Y_train-min_Y_train)\n",
    "        X_test = (X_test-min_X_train)/(max_X_train-min_X_train)\n",
    "        ELIA_train = splits[split_idx]['ELIA_train'].to_numpy()\n",
    "        ELIA_test = splits[split_idx]['ELIA_test'].to_numpy()\n",
    "        model = m(**params[m.__name__])\n",
    "        model.fit(X_train, Y_train)\n",
    "        Y_pred = (model.predict(X_test)*(max_Y_train-min_Y_train))+min_Y_train\n",
    "        errors[m.__name__].append(mape(Y_pred, Y_test))\n",
    "        mapes_ELIA.append(mape(ELIA_test, Y_test))\n",
    "    print(m.__name__, np.mean(errors[m.__name__]))\n",
    "errors[\"ELIA\"] = mapes_ELIA"
   ]
  },
  {
   "cell_type": "code",
   "execution_count": 14,
   "id": "809c4008-3ad5-4450-a438-f7dc108d5d13",
   "metadata": {},
   "outputs": [
    {
     "data": {
      "text/html": [
       "<div>\n",
       "<style scoped>\n",
       "    .dataframe tbody tr th:only-of-type {\n",
       "        vertical-align: middle;\n",
       "    }\n",
       "\n",
       "    .dataframe tbody tr th {\n",
       "        vertical-align: top;\n",
       "    }\n",
       "\n",
       "    .dataframe thead th {\n",
       "        text-align: right;\n",
       "    }\n",
       "</style>\n",
       "<table border=\"1\" class=\"dataframe\">\n",
       "  <thead>\n",
       "    <tr style=\"text-align: right;\">\n",
       "      <th></th>\n",
       "      <th>LinearRegression</th>\n",
       "      <th>DecisionTreeRegressor</th>\n",
       "      <th>MultiOutputRegressor</th>\n",
       "      <th>SimpleMLPRegressor</th>\n",
       "      <th>CNNRegressor</th>\n",
       "      <th>ELIA</th>\n",
       "    </tr>\n",
       "  </thead>\n",
       "  <tbody>\n",
       "    <tr>\n",
       "      <th>mean</th>\n",
       "      <td>1.506871</td>\n",
       "      <td>2.158781</td>\n",
       "      <td>1.589672</td>\n",
       "      <td>1.617683</td>\n",
       "      <td>1.641269</td>\n",
       "      <td>2.102381</td>\n",
       "    </tr>\n",
       "    <tr>\n",
       "      <th>std</th>\n",
       "      <td>0.592206</td>\n",
       "      <td>0.403514</td>\n",
       "      <td>0.545700</td>\n",
       "      <td>0.456083</td>\n",
       "      <td>0.609207</td>\n",
       "      <td>0.317704</td>\n",
       "    </tr>\n",
       "  </tbody>\n",
       "</table>\n",
       "</div>"
      ],
      "text/plain": [
       "      LinearRegression  DecisionTreeRegressor  MultiOutputRegressor  \\\n",
       "mean          1.506871               2.158781              1.589672   \n",
       "std           0.592206               0.403514              0.545700   \n",
       "\n",
       "      SimpleMLPRegressor  CNNRegressor      ELIA  \n",
       "mean            1.617683      1.641269  2.102381  \n",
       "std             0.456083      0.609207  0.317704  "
      ]
     },
     "execution_count": 14,
     "metadata": {},
     "output_type": "execute_result"
    }
   ],
   "source": [
    "results = pd.DataFrame(errors)\n",
    "results.describe().loc[[\"mean\", \"std\"]]"
   ]
  },
  {
   "cell_type": "code",
   "execution_count": null,
   "id": "ee90d6c1-7438-4a3c-8e06-45eef7bee63c",
   "metadata": {},
   "outputs": [],
   "source": []
  }
 ],
 "metadata": {
  "kernelspec": {
   "display_name": "Python 3 (ipykernel)",
   "language": "python",
   "name": "python3"
  },
  "language_info": {
   "codemirror_mode": {
    "name": "ipython",
    "version": 3
   },
   "file_extension": ".py",
   "mimetype": "text/x-python",
   "name": "python",
   "nbconvert_exporter": "python",
   "pygments_lexer": "ipython3",
   "version": "3.11.6"
  }
 },
 "nbformat": 4,
 "nbformat_minor": 5
}
