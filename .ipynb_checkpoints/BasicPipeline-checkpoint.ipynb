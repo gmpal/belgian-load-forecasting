{
 "cells": [
  {
   "cell_type": "markdown",
   "id": "8e75cc83-8e40-4399-ad8d-1bd6092ecfd0",
   "metadata": {},
   "source": [
    "# Basic Pipeline Example - VST Forecasting"
   ]
  },
  {
   "cell_type": "code",
   "execution_count": 2,
   "id": "b508bdb4-3161-4f3e-9aaa-57da1254ba3d",
   "metadata": {},
   "outputs": [],
   "source": [
    "import pandas as pd\n",
    "import matplotlib.pyplot as plt\n",
    "import numpy as np\n",
    "from tqdm.auto import tqdm\n",
    "from sklearn.multioutput import MultiOutputRegressor\n",
    "from sklearn.linear_model import LinearRegression\n",
    "from sklearn.tree import DecisionTreeRegressor\n",
    "from nets import SimpleMLPRegressor, CNNRegressor\n",
    "from lightgbm import LGBMRegressor\n",
    "from utils import create_time_series_splits, read_df, mape"
   ]
  },
  {
   "cell_type": "code",
   "execution_count": 3,
   "id": "6fb5e256-082f-4716-a3f5-88d58a23c013",
   "metadata": {},
   "outputs": [],
   "source": [
    "excluded_columns = ['Total Load', 'Most recent forecast', 'Most recent P10',\n",
    "       'Most recent P90', 'Day-ahead 6PM forecast', 'Day-ahead 6PM P10',\n",
    "       'Day-ahead 6PM P90', 'Week-ahead forecast', 'Year', 'Month', 'Day',\n",
    "       'Hour', 'Minute', 'Season', 'Lockdown']"
   ]
  },
  {
   "cell_type": "code",
   "execution_count": 4,
   "id": "18c514f7-c3d5-4c2d-aadc-1a730a37c99b",
   "metadata": {},
   "outputs": [
    {
     "name": "stderr",
     "output_type": "stream",
     "text": [
      "100%|██████████| 16128/16128 [00:06<00:00, 2390.22it/s]\n",
      "100%|██████████| 2688/2688 [00:00<00:00, 163585.16it/s]\n",
      "100%|██████████| 16128/16128 [00:06<00:00, 2387.13it/s]\n",
      "100%|██████████| 2688/2688 [00:00<00:00, 164324.28it/s]\n",
      "100%|██████████| 16128/16128 [00:06<00:00, 2403.45it/s]\n",
      "100%|██████████| 2688/2688 [00:00<00:00, 162753.91it/s]\n",
      "100%|██████████| 16128/16128 [00:06<00:00, 2403.64it/s]\n",
      "100%|██████████| 2688/2688 [00:00<00:00, 162552.11it/s]\n",
      "100%|██████████| 16128/16128 [00:06<00:00, 2393.48it/s]\n",
      "100%|██████████| 2688/2688 [00:00<00:00, 163324.48it/s]\n"
     ]
    }
   ],
   "source": [
    "num_splits = 5\n",
    "splits = create_time_series_splits(\n",
    "    data=read_df('./preprocessed_data.csv'),\n",
    "    train_size_days=7*4*6,\n",
    "    test_size_days=7*4,\n",
    "    num_splits=num_splits,\n",
    "    window_size_steps=4*6,\n",
    "    exclude_columns=excluded_columns,\n",
    "    target_column='Total Load Interpolated',\n",
    "    prediction_horizon_steps=4*6,\n",
    "    shifting_steps=1,\n",
    "    elia_column_to_return='Day-ahead 6PM forecast',\n",
    "    alignment_times=['18:00']\n",
    ")"
   ]
  },
  {
   "cell_type": "code",
   "execution_count": 5,
   "id": "f7ae267f-1252-42b1-bb28-2966a4eb88e0",
   "metadata": {},
   "outputs": [],
   "source": [
    "models = [LinearRegression, DecisionTreeRegressor, MultiOutputRegressor, SimpleMLPRegressor, CNNRegressor]\n",
    "params = {\"LinearRegression\": {},\n",
    "          \"DecisionTreeRegressor\": {},\n",
    "          \"MultiOutputRegressor\": {'estimator': LGBMRegressor(verbose= -1)},\n",
    "          \"SimpleMLPRegressor\": {'device': 'mps', 'verbose': True},\n",
    "          \"CNNRegressor\": {'device': 'mps', 'verbose': True}}"
   ]
  },
  {
   "cell_type": "code",
   "execution_count": 6,
   "id": "2e9ccf8b-fdaa-470c-a662-477e4ff8dd66",
   "metadata": {},
   "outputs": [
    {
     "data": {
      "application/vnd.jupyter.widget-view+json": {
       "model_id": "4377534f03514bb691ac2f766576b5b0",
       "version_major": 2,
       "version_minor": 0
      },
      "text/plain": [
       "  0%|          | 0/5 [00:00<?, ?it/s]"
      ]
     },
     "metadata": {},
     "output_type": "display_data"
    },
    {
     "data": {
      "application/vnd.jupyter.widget-view+json": {
       "model_id": "ff70e7ddbf024195b9fe3646bb9383dd",
       "version_major": 2,
       "version_minor": 0
      },
      "text/plain": [
       "  0%|          | 0/5 [00:00<?, ?it/s]"
      ]
     },
     "metadata": {},
     "output_type": "display_data"
    },
    {
     "data": {
      "application/vnd.jupyter.widget-view+json": {
       "model_id": "19cdacdef7a64aeca2a75954434158f6",
       "version_major": 2,
       "version_minor": 0
      },
      "text/plain": [
       "  0%|          | 0/5 [00:00<?, ?it/s]"
      ]
     },
     "metadata": {},
     "output_type": "display_data"
    },
    {
     "data": {
      "application/vnd.jupyter.widget-view+json": {
       "model_id": "c24f775bb861448eb7903f5735d4ac30",
       "version_major": 2,
       "version_minor": 0
      },
      "text/plain": [
       "  0%|          | 0/5 [00:00<?, ?it/s]"
      ]
     },
     "metadata": {},
     "output_type": "display_data"
    },
    {
     "data": {
      "application/vnd.jupyter.widget-view+json": {
       "model_id": "007931a4957b4a4383b60fe4ab547f20",
       "version_major": 2,
       "version_minor": 0
      },
      "text/plain": [
       "Training epochs:   0%|          | 0/100 [00:00<?, ?it/s]"
      ]
     },
     "metadata": {},
     "output_type": "display_data"
    },
    {
     "data": {
      "application/vnd.jupyter.widget-view+json": {
       "model_id": "c88334e8877b46308ebb280704e25b0a",
       "version_major": 2,
       "version_minor": 0
      },
      "text/plain": [
       "Training epochs:   0%|          | 0/100 [00:00<?, ?it/s]"
      ]
     },
     "metadata": {},
     "output_type": "display_data"
    },
    {
     "data": {
      "application/vnd.jupyter.widget-view+json": {
       "model_id": "bf2a0cd472ed438cbaa9188ac7b14007",
       "version_major": 2,
       "version_minor": 0
      },
      "text/plain": [
       "Training epochs:   0%|          | 0/100 [00:00<?, ?it/s]"
      ]
     },
     "metadata": {},
     "output_type": "display_data"
    },
    {
     "data": {
      "application/vnd.jupyter.widget-view+json": {
       "model_id": "63888c6d21564d37aa3b1f472d528016",
       "version_major": 2,
       "version_minor": 0
      },
      "text/plain": [
       "Training epochs:   0%|          | 0/100 [00:00<?, ?it/s]"
      ]
     },
     "metadata": {},
     "output_type": "display_data"
    },
    {
     "data": {
      "application/vnd.jupyter.widget-view+json": {
       "model_id": "a70a005414004722969c8a0147266a4a",
       "version_major": 2,
       "version_minor": 0
      },
      "text/plain": [
       "Training epochs:   0%|          | 0/100 [00:00<?, ?it/s]"
      ]
     },
     "metadata": {},
     "output_type": "display_data"
    },
    {
     "data": {
      "application/vnd.jupyter.widget-view+json": {
       "model_id": "1f8fa0f9307f4f40b534c2d42808e970",
       "version_major": 2,
       "version_minor": 0
      },
      "text/plain": [
       "  0%|          | 0/5 [00:00<?, ?it/s]"
      ]
     },
     "metadata": {},
     "output_type": "display_data"
    },
    {
     "data": {
      "application/vnd.jupyter.widget-view+json": {
       "model_id": "314da1a498bb4ed0b9f809bd8faafb34",
       "version_major": 2,
       "version_minor": 0
      },
      "text/plain": [
       "Training epochs:   0%|          | 0/200 [00:00<?, ?it/s]"
      ]
     },
     "metadata": {},
     "output_type": "display_data"
    },
    {
     "data": {
      "application/vnd.jupyter.widget-view+json": {
       "model_id": "481e1e2a18d94780a6c82820a525eac1",
       "version_major": 2,
       "version_minor": 0
      },
      "text/plain": [
       "Training epochs:   0%|          | 0/200 [00:00<?, ?it/s]"
      ]
     },
     "metadata": {},
     "output_type": "display_data"
    },
    {
     "data": {
      "application/vnd.jupyter.widget-view+json": {
       "model_id": "5270bcb14d274967bf8ee5b339a6dd01",
       "version_major": 2,
       "version_minor": 0
      },
      "text/plain": [
       "Training epochs:   0%|          | 0/200 [00:00<?, ?it/s]"
      ]
     },
     "metadata": {},
     "output_type": "display_data"
    },
    {
     "data": {
      "application/vnd.jupyter.widget-view+json": {
       "model_id": "62b0c29dd654482eb8a35095ece6117e",
       "version_major": 2,
       "version_minor": 0
      },
      "text/plain": [
       "Training epochs:   0%|          | 0/200 [00:00<?, ?it/s]"
      ]
     },
     "metadata": {},
     "output_type": "display_data"
    },
    {
     "data": {
      "application/vnd.jupyter.widget-view+json": {
       "model_id": "0a9d62fef2fe4245b26ca35abb39d861",
       "version_major": 2,
       "version_minor": 0
      },
      "text/plain": [
       "Training epochs:   0%|          | 0/200 [00:00<?, ?it/s]"
      ]
     },
     "metadata": {},
     "output_type": "display_data"
    }
   ],
   "source": [
    "errors = {}\n",
    "for m in models:\n",
    "    errors[m.__name__] = []\n",
    "    mapes = []\n",
    "    mapes_ELIA = []\n",
    "    for split_idx in tqdm(range(num_splits)):\n",
    "        X_train = splits[split_idx]['X_train'].to_numpy()\n",
    "        Y_train = splits[split_idx]['Y_train'].to_numpy()\n",
    "        X_test = splits[split_idx]['X_test'].to_numpy()\n",
    "        Y_test = splits[split_idx]['Y_test'].to_numpy()\n",
    "        min_X_train, max_X_train = np.min(X_train), np.max(X_train)\n",
    "        min_Y_train, max_Y_train = np.min(Y_train), np.max(Y_train)\n",
    "        X_train, Y_train = (X_train-min_X_train)/(max_X_train-min_X_train), (Y_train-min_Y_train)/(max_Y_train-min_Y_train)\n",
    "        X_test = (X_test-min_X_train)/(max_X_train-min_X_train)\n",
    "        ELIA_train = splits[split_idx]['ELIA_train'].to_numpy()\n",
    "        ELIA_test = splits[split_idx]['ELIA_test'].to_numpy()\n",
    "        model = m(**params[m.__name__])\n",
    "        model.fit(X_train, Y_train)\n",
    "        Y_pred = (model.predict(X_test)*(max_Y_train-min_Y_train))+min_Y_train\n",
    "        errors[m.__name__].append(mape(Y_pred, Y_test))\n",
    "        mapes_ELIA.append(mape(ELIA_test, Y_test))\n",
    "errors[\"ELIA\"] = mapes_ELIA"
   ]
  },
  {
   "cell_type": "code",
   "execution_count": 7,
   "id": "809c4008-3ad5-4450-a438-f7dc108d5d13",
   "metadata": {},
   "outputs": [
    {
     "data": {
      "text/html": [
       "<div>\n",
       "<style scoped>\n",
       "    .dataframe tbody tr th:only-of-type {\n",
       "        vertical-align: middle;\n",
       "    }\n",
       "\n",
       "    .dataframe tbody tr th {\n",
       "        vertical-align: top;\n",
       "    }\n",
       "\n",
       "    .dataframe thead th {\n",
       "        text-align: right;\n",
       "    }\n",
       "</style>\n",
       "<table border=\"1\" class=\"dataframe\">\n",
       "  <thead>\n",
       "    <tr style=\"text-align: right;\">\n",
       "      <th></th>\n",
       "      <th>LinearRegression</th>\n",
       "      <th>DecisionTreeRegressor</th>\n",
       "      <th>MultiOutputRegressor</th>\n",
       "      <th>SimpleMLPRegressor</th>\n",
       "      <th>CNNRegressor</th>\n",
       "      <th>ELIA</th>\n",
       "    </tr>\n",
       "  </thead>\n",
       "  <tbody>\n",
       "    <tr>\n",
       "      <th>mean</th>\n",
       "      <td>5.642872</td>\n",
       "      <td>4.553625</td>\n",
       "      <td>3.627655</td>\n",
       "      <td>3.882200</td>\n",
       "      <td>3.293010</td>\n",
       "      <td>2.190201</td>\n",
       "    </tr>\n",
       "    <tr>\n",
       "      <th>std</th>\n",
       "      <td>1.760208</td>\n",
       "      <td>1.161848</td>\n",
       "      <td>0.707792</td>\n",
       "      <td>1.183945</td>\n",
       "      <td>0.944507</td>\n",
       "      <td>0.467161</td>\n",
       "    </tr>\n",
       "  </tbody>\n",
       "</table>\n",
       "</div>"
      ],
      "text/plain": [
       "      LinearRegression  DecisionTreeRegressor  MultiOutputRegressor  \\\n",
       "mean          5.642872               4.553625              3.627655   \n",
       "std           1.760208               1.161848              0.707792   \n",
       "\n",
       "      SimpleMLPRegressor  CNNRegressor      ELIA  \n",
       "mean            3.882200      3.293010  2.190201  \n",
       "std             1.183945      0.944507  0.467161  "
      ]
     },
     "execution_count": 7,
     "metadata": {},
     "output_type": "execute_result"
    }
   ],
   "source": [
    "results = pd.DataFrame(errors)\n",
    "results.describe().loc[[\"mean\", \"std\"]]"
   ]
  },
  {
   "cell_type": "code",
   "execution_count": null,
   "id": "ee90d6c1-7438-4a3c-8e06-45eef7bee63c",
   "metadata": {},
   "outputs": [],
   "source": []
  }
 ],
 "metadata": {
  "kernelspec": {
   "display_name": "Python 3 (ipykernel)",
   "language": "python",
   "name": "python3"
  },
  "language_info": {
   "codemirror_mode": {
    "name": "ipython",
    "version": 3
   },
   "file_extension": ".py",
   "mimetype": "text/x-python",
   "name": "python",
   "nbconvert_exporter": "python",
   "pygments_lexer": "ipython3",
   "version": "3.11.6"
  }
 },
 "nbformat": 4,
 "nbformat_minor": 5
}
