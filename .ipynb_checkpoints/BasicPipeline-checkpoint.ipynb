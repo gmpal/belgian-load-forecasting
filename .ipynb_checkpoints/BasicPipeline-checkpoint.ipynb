{
 "cells": [
  {
   "cell_type": "markdown",
   "id": "8e75cc83-8e40-4399-ad8d-1bd6092ecfd0",
   "metadata": {},
   "source": [
    "# Basic Pipeline Example - VST Forecasting"
   ]
  },
  {
   "cell_type": "code",
   "execution_count": 2,
   "id": "b508bdb4-3161-4f3e-9aaa-57da1254ba3d",
   "metadata": {},
   "outputs": [],
   "source": [
    "import pandas as pd\n",
    "import matplotlib.pyplot as plt\n",
    "import numpy as np\n",
    "from tqdm.auto import tqdm\n",
    "from sklearn.multioutput import MultiOutputRegressor\n",
    "from sklearn.linear_model import LinearRegression\n",
    "from sklearn.tree import DecisionTreeRegressor\n",
    "from nets import SimpleMLPRegressor, CNNRegressor\n",
    "from lightgbm import LGBMRegressor\n",
    "from utils import create_time_series_splits, read_df, mape"
   ]
  },
  {
   "cell_type": "code",
   "execution_count": 3,
   "id": "6fb5e256-082f-4716-a3f5-88d58a23c013",
   "metadata": {},
   "outputs": [],
   "source": [
    "excluded_columns = ['Total Load', 'Most recent forecast', 'Most recent P10',\n",
    "       'Most recent P90', 'Day-ahead 6PM forecast', 'Day-ahead 6PM P10',\n",
    "       'Day-ahead 6PM P90', 'Week-ahead forecast', 'Year', 'Month', 'Day',\n",
    "       'Hour', 'Minute', 'Season', 'Lockdown']"
   ]
  },
  {
   "cell_type": "code",
   "execution_count": null,
   "id": "18c514f7-c3d5-4c2d-aadc-1a730a37c99b",
   "metadata": {},
   "outputs": [],
   "source": [
    "num_splits = 5\n",
    "splits = create_time_series_splits(\n",
    "    data=read_df('./preprocessed_data.csv'),\n",
    "    train_size_days=7*4*6,\n",
    "    test_size_days=7*4,\n",
    "    num_splits=num_splits,\n",
    "    window_size_steps=4*6,\n",
    "    exclude_columns=excluded_columns,\n",
    "    target_column='Total Load Interpolated',\n",
    "    prediction_horizon_steps=4,\n",
    "    shifting_steps=1,\n",
    "    elia_column_to_return='Day-ahead 6PM forecast',\n",
    "    alignment_times=['18:00']\n",
    ")"
   ]
  },
  {
   "cell_type": "code",
   "execution_count": null,
   "id": "f7ae267f-1252-42b1-bb28-2966a4eb88e0",
   "metadata": {},
   "outputs": [],
   "source": [
    "models = [LinearRegression, DecisionTreeRegressor, MultiOutputRegressor, SimpleMLPRegressor, CNNRegressor]\n",
    "params = {\"LinearRegression\": {},\n",
    "          \"DecisionTreeRegressor\": {},\n",
    "          \"MultiOutputRegressor\": {'estimator': LGBMRegressor(verbose= -1)},\n",
    "          \"SimpleMLPRegressor\": {'device': 'mps', 'verbose': True},\n",
    "          \"CNNRegressor\": {'device': 'mps', 'verbose': True}}"
   ]
  },
  {
   "cell_type": "code",
   "execution_count": null,
   "id": "2e9ccf8b-fdaa-470c-a662-477e4ff8dd66",
   "metadata": {},
   "outputs": [],
   "source": [
    "errors = {}\n",
    "for m in models:\n",
    "    errors[m.__name__] = []\n",
    "    mapes = []\n",
    "    mapes_ELIA = []\n",
    "    for split_idx in tqdm(range(num_splits)):\n",
    "        X_train = splits[split_idx]['X_train'].to_numpy()\n",
    "        Y_train = splits[split_idx]['Y_train'].to_numpy()\n",
    "        X_test = splits[split_idx]['X_test'].to_numpy()\n",
    "        Y_test = splits[split_idx]['Y_test'].to_numpy()\n",
    "        min_X_train, max_X_train = np.min(X_train), np.max(X_train)\n",
    "        min_Y_train, max_Y_train = np.min(Y_train), np.max(Y_train)\n",
    "        X_train, Y_train = (X_train-min_X_train)/(max_X_train-min_X_train), (Y_train-min_Y_train)/(max_Y_train-min_Y_train)\n",
    "        X_test = (X_test-min_X_train)/(max_X_train-min_X_train)\n",
    "        ELIA_train = splits[split_idx]['ELIA_train'].to_numpy()\n",
    "        ELIA_test = splits[split_idx]['ELIA_test'].to_numpy()\n",
    "        model = m(**params[m.__name__])\n",
    "        model.fit(X_train, Y_train)\n",
    "        Y_pred = (model.predict(X_test)*(max_Y_train-min_Y_train))+min_Y_train\n",
    "        errors[m.__name__].append(mape(Y_pred, Y_test))\n",
    "        mapes_ELIA.append(mape(ELIA_test, Y_test))\n",
    "errors[\"ELIA\"] = mapes_ELIA"
   ]
  },
  {
   "cell_type": "code",
   "execution_count": null,
   "id": "809c4008-3ad5-4450-a438-f7dc108d5d13",
   "metadata": {},
   "outputs": [],
   "source": [
    "results = pd.DataFrame(errors)\n",
    "results.describe().loc[[\"mean\", \"std\"]]"
   ]
  },
  {
   "cell_type": "code",
   "execution_count": null,
   "id": "ee90d6c1-7438-4a3c-8e06-45eef7bee63c",
   "metadata": {},
   "outputs": [],
   "source": []
  }
 ],
 "metadata": {
  "kernelspec": {
   "display_name": "Python 3 (ipykernel)",
   "language": "python",
   "name": "python3"
  },
  "language_info": {
   "codemirror_mode": {
    "name": "ipython",
    "version": 3
   },
   "file_extension": ".py",
   "mimetype": "text/x-python",
   "name": "python",
   "nbconvert_exporter": "python",
   "pygments_lexer": "ipython3",
   "version": "3.11.6"
  }
 },
 "nbformat": 4,
 "nbformat_minor": 5
}
